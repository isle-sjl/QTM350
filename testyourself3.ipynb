{
  "nbformat": 4,
  "nbformat_minor": 0,
  "metadata": {
    "colab": {
      "provenance": []
    },
    "kernelspec": {
      "name": "python3",
      "display_name": "Python 3"
    },
    "language_info": {
      "name": "python"
    }
  },
  "cells": [
    {
      "cell_type": "markdown",
      "source": [
        "Use the command\n",
        "\n",
        "wget http://archive.ics.uci.edu/ml/machine-learning-databases/adult/adult.dataLinks to an external site.\n",
        "\n",
        "to download this dataset from the many available at (http://archive.ics.uci.edu/ml/machine-learning-databases/).\n",
        "\n",
        "Then, follow the steps hereLinks to an external site. until you create the file adult_sample_with_header.csv (https://www.datacamp.com/tutorial/shell-commands-data-scientist)\n",
        "\n",
        "Note, in the steps above, you may need to write your sed output to another file in two steps: instead of sed 's/, ?, /,, /g' adult.csv > adult.csv use a new file name such as new-adult.csv on the righthand side of the redirection >.\n",
        "\n",
        "Push that file to your GitHub repository or upload it using the GitHub graphical interface, then paste here the link to the csv file in your repo using the raw link (not the link to the GitHub page where the csv file is)."
      ],
      "metadata": {
        "id": "r6HUytTJ_fLP"
      }
    },
    {
      "cell_type": "code",
      "source": [
        "!wget http://archive.ics.uci.edu/ml/machine-learning-databases/adult/adult.data"
      ],
      "metadata": {
        "colab": {
          "base_uri": "https://localhost:8080/"
        },
        "id": "XbNy0OLB_YW_",
        "outputId": "85fa93db-82b5-4268-b23c-f2a536436f7b"
      },
      "execution_count": 1,
      "outputs": [
        {
          "output_type": "stream",
          "name": "stdout",
          "text": [
            "--2023-09-26 00:57:30--  http://archive.ics.uci.edu/ml/machine-learning-databases/adult/adult.data\n",
            "Resolving archive.ics.uci.edu (archive.ics.uci.edu)... 128.195.10.252\n",
            "Connecting to archive.ics.uci.edu (archive.ics.uci.edu)|128.195.10.252|:80... connected.\n",
            "HTTP request sent, awaiting response... 200 OK\n",
            "Length: unspecified\n",
            "Saving to: ‘adult.data’\n",
            "\n",
            "adult.data              [     <=>            ]   3.79M  2.87MB/s    in 1.3s    \n",
            "\n",
            "2023-09-26 00:57:32 (2.87 MB/s) - ‘adult.data’ saved [3974305]\n",
            "\n"
          ]
        }
      ]
    },
    {
      "cell_type": "code",
      "source": [
        "!ls"
      ],
      "metadata": {
        "colab": {
          "base_uri": "https://localhost:8080/"
        },
        "id": "Wz1ka6qD_Z8Z",
        "outputId": "db1a5b1b-08fb-41f6-9749-eefe799369b1"
      },
      "execution_count": 2,
      "outputs": [
        {
          "output_type": "stream",
          "name": "stdout",
          "text": [
            "adult.data  sample_data\n"
          ]
        }
      ]
    },
    {
      "cell_type": "markdown",
      "source": [
        "# Count with wc"
      ],
      "metadata": {
        "id": "8jQVgyMXAdVf"
      }
    },
    {
      "cell_type": "code",
      "source": [
        "# how many lines it contains\n",
        "!wc -l adult.data"
      ],
      "metadata": {
        "colab": {
          "base_uri": "https://localhost:8080/"
        },
        "id": "Udc01QN6_n6R",
        "outputId": "d2ad0aa7-6182-40f6-b559-b21184513768"
      },
      "execution_count": 3,
      "outputs": [
        {
          "output_type": "stream",
          "name": "stdout",
          "text": [
            "32562 adult.data\n"
          ]
        }
      ]
    },
    {
      "cell_type": "code",
      "source": [
        "# how many words the file contains\n",
        "!wc -w adult.data"
      ],
      "metadata": {
        "colab": {
          "base_uri": "https://localhost:8080/"
        },
        "id": "sq7wsXsU_x-P",
        "outputId": "19ec219a-dbf7-4d4e-aba8-f3af5e79b4ab"
      },
      "execution_count": 4,
      "outputs": [
        {
          "output_type": "stream",
          "name": "stdout",
          "text": [
            "488415 adult.data\n"
          ]
        }
      ]
    },
    {
      "cell_type": "code",
      "source": [
        "# looking at the first lines using `head` command\n",
        "# lmiting output to first 2 lines using -n since head gives you 10 lines by default\n",
        "!head -n 2 adult.data"
      ],
      "metadata": {
        "colab": {
          "base_uri": "https://localhost:8080/"
        },
        "id": "eSrFIn2jAFuq",
        "outputId": "e5c419ae-806a-43f3-df32-3e56af75f761"
      },
      "execution_count": 6,
      "outputs": [
        {
          "output_type": "stream",
          "name": "stdout",
          "text": [
            "39, State-gov, 77516, Bachelors, 13, Never-married, Adm-clerical, Not-in-family, White, Male, 2174, 0, 40, United-States, <=50K\n",
            "50, Self-emp-not-inc, 83311, Bachelors, 13, Married-civ-spouse, Exec-managerial, Husband, White, Male, 0, 0, 13, United-States, <=50K\n"
          ]
        }
      ]
    },
    {
      "cell_type": "markdown",
      "source": [
        "# Concatenate Files with cat"
      ],
      "metadata": {
        "id": "AZ3OUnwdAbJD"
      }
    },
    {
      "cell_type": "markdown",
      "source": [
        "cat prints a file's content to the standard output  \n",
        "it can also be used to concatenate a series of files  \n",
        "The command cat file_1.csv file_2.csv > target_file.csv will merge the content of both file_1.csv and file_2.csv into target_file.csv, adding file_2.csv at the end of file_1.csv."
      ],
      "metadata": {
        "id": "Gtx9jU3VAiuo"
      }
    },
    {
      "cell_type": "code",
      "source": [
        "# using `echo` to create a comma separated list of column names into a header.csv file\n",
        "!echo \"age,workclass,fnlwgt,education,education-num,marital-status,occupation,relationship,race,sex,capital-gain,capital-loss,native-country,class\" > header.csv\n",
        "!ls"
      ],
      "metadata": {
        "colab": {
          "base_uri": "https://localhost:8080/"
        },
        "id": "ie-WdmNgA44B",
        "outputId": "c0403a78-e8cf-45c4-d35b-b37204718652"
      },
      "execution_count": 9,
      "outputs": [
        {
          "output_type": "stream",
          "name": "stdout",
          "text": [
            "adult.data  header.csv\tsample_data\n"
          ]
        }
      ]
    },
    {
      "cell_type": "code",
      "source": [
        "# adding header.csv file to the beginning of the adult.data file while also renaming the adult.data to adult.csv to accomadate the csv formatted file\n",
        "!cat header.csv adult.data > adult.csv\n",
        "!ls"
      ],
      "metadata": {
        "colab": {
          "base_uri": "https://localhost:8080/"
        },
        "id": "1hKIHG4lBJTL",
        "outputId": "0e80cc90-2e2a-45fd-bf52-2d700eace605"
      },
      "execution_count": 11,
      "outputs": [
        {
          "output_type": "stream",
          "name": "stdout",
          "text": [
            "adult.csv  adult.data  header.csv  sample_data\n"
          ]
        }
      ]
    },
    {
      "cell_type": "code",
      "source": [
        "# checking that the first row of adult.csv contains the column names\n",
        "!head -n 1 adult.csv"
      ],
      "metadata": {
        "colab": {
          "base_uri": "https://localhost:8080/"
        },
        "id": "LdBZPLbcBYWz",
        "outputId": "a57e07a8-f7d7-451c-de86-b8c1b2ce89aa"
      },
      "execution_count": 12,
      "outputs": [
        {
          "output_type": "stream",
          "name": "stdout",
          "text": [
            "age,workclass,fnlwgt,education,education-num,marital-status,occupation,relationship,race,sex,capital-gain,capital-loss,native-country,class\n"
          ]
        }
      ]
    },
    {
      "cell_type": "markdown",
      "source": [
        "# Modify a File with sed  \n",
        "Another frequent data mining scenario happens when a file is corrupted or badly formatted, such as with non UTF-8 characters or a misplaced comma. You can correct that file without actually opening it using the sed command.\n",
        "\n",
        "The generic sed pattern is `!sed \"s/<string to replace>/<string to replace it with>/g\" <source_file> > <target_file>`.\n"
      ],
      "metadata": {
        "id": "E2IHP1-3BfYo"
      }
    },
    {
      "cell_type": "code",
      "source": [
        "# grep \", ?,\" adult.csv searches for lines in the file adult.csv that contain a comma followed by zero or one space followed by another comma.\n",
        "# The | symbol pipes the output of the grep command to the wc command.\n",
        "# Therefore, the entire command grep \", ?,\" adult.csv | wc -l counts the number of lines in the adult.csv file that contain a field with a space after the comma.\n",
        "!grep \", ?,\" adult.csv | wc -l"
      ],
      "metadata": {
        "colab": {
          "base_uri": "https://localhost:8080/"
        },
        "id": "juP7UeNRBwR9",
        "outputId": "9cf23e82-f688-4f84-95b6-a97fd5d414b1"
      },
      "execution_count": 13,
      "outputs": [
        {
          "output_type": "stream",
          "name": "stdout",
          "text": [
            "2399\n"
          ]
        }
      ]
    },
    {
      "cell_type": "code",
      "source": [
        "# replace all the columns with ? by an empty string\n",
        "!sed \"s/, ?,/,,/g\" adult.csv >  adult.csv"
      ],
      "metadata": {
        "id": "jShMW-kJCORm"
      },
      "execution_count": 14,
      "outputs": []
    },
    {
      "cell_type": "markdown",
      "source": [
        "# Subset a Large File\n",
        "head outputs the first part of files;  \n",
        "tail outputs the last part of files"
      ],
      "metadata": {
        "id": "MSe3bg8vCU10"
      }
    },
    {
      "cell_type": "code",
      "source": [
        "# extracting 20 lines starting at line 100 and export exporting the contents to a subset file\n",
        "!head -n 120 adult.csv | tail -n 20 > adult_sample.csv\n",
        "!ls"
      ],
      "metadata": {
        "colab": {
          "base_uri": "https://localhost:8080/"
        },
        "id": "AXCrAJPMCZRT",
        "outputId": "6c11886e-0bc2-465d-988f-334f3c0b7234"
      },
      "execution_count": 16,
      "outputs": [
        {
          "output_type": "stream",
          "name": "stdout",
          "text": [
            "adult.csv  adult.data  adult_sample.csv  header.csv  sample_data\n"
          ]
        }
      ]
    },
    {
      "cell_type": "code",
      "source": [
        "# adding the header.csv file back into the adult_sample.csv since we didn't export the first line\n",
        "!cat adult_sample.csv header.csv > adult_sample_with_header.csv\n",
        "!ls"
      ],
      "metadata": {
        "colab": {
          "base_uri": "https://localhost:8080/"
        },
        "id": "NPCaeLqwDGcn",
        "outputId": "e283a28c-cfbf-40fe-b6bd-ceb4e63cec48"
      },
      "execution_count": 18,
      "outputs": [
        {
          "output_type": "stream",
          "name": "stdout",
          "text": [
            "adult.csv   adult_sample.csv\t\t  header.csv\n",
            "adult.data  adult_sample_with_header.csv  sample_data\n"
          ]
        }
      ]
    }
  ]
}